{
 "cells": [
  {
   "cell_type": "code",
   "execution_count": 4,
   "metadata": {},
   "outputs": [],
   "source": [
    "import numpy as np\n",
    "import pandas as pd\n",
    "import matplotlib.pyplot as plt"
   ]
  },
  {
   "cell_type": "code",
   "execution_count": 5,
   "metadata": {},
   "outputs": [],
   "source": [
    "data = pd.read_csv('data/data.csv')"
   ]
  },
  {
   "cell_type": "code",
   "execution_count": 6,
   "metadata": {},
   "outputs": [
    {
     "data": {
      "text/html": [
       "<div>\n",
       "<style scoped>\n",
       "    .dataframe tbody tr th:only-of-type {\n",
       "        vertical-align: middle;\n",
       "    }\n",
       "\n",
       "    .dataframe tbody tr th {\n",
       "        vertical-align: top;\n",
       "    }\n",
       "\n",
       "    .dataframe thead th {\n",
       "        text-align: right;\n",
       "    }\n",
       "</style>\n",
       "<table border=\"1\" class=\"dataframe\">\n",
       "  <thead>\n",
       "    <tr style=\"text-align: right;\">\n",
       "      <th></th>\n",
       "      <th>current day</th>\n",
       "      <th>week day</th>\n",
       "      <th>month</th>\n",
       "      <th>day</th>\n",
       "      <th>year</th>\n",
       "      <th>protein</th>\n",
       "      <th>carbs</th>\n",
       "      <th>fat</th>\n",
       "      <th>calories intake</th>\n",
       "      <th>water</th>\n",
       "      <th>move cal</th>\n",
       "      <th>training day</th>\n",
       "    </tr>\n",
       "  </thead>\n",
       "  <tbody>\n",
       "    <tr>\n",
       "      <th>0</th>\n",
       "      <td>1</td>\n",
       "      <td>Fri</td>\n",
       "      <td>Dec</td>\n",
       "      <td>30</td>\n",
       "      <td>2022</td>\n",
       "      <td>108g</td>\n",
       "      <td>118g</td>\n",
       "      <td>66g</td>\n",
       "      <td>1767</td>\n",
       "      <td>3L</td>\n",
       "      <td>594</td>\n",
       "      <td>upper</td>\n",
       "    </tr>\n",
       "    <tr>\n",
       "      <th>1</th>\n",
       "      <td>2</td>\n",
       "      <td>Sat</td>\n",
       "      <td>Dec</td>\n",
       "      <td>31</td>\n",
       "      <td>2022</td>\n",
       "      <td>96g</td>\n",
       "      <td>233g</td>\n",
       "      <td>70g</td>\n",
       "      <td>1908</td>\n",
       "      <td>3L</td>\n",
       "      <td>572</td>\n",
       "      <td>lower</td>\n",
       "    </tr>\n",
       "    <tr>\n",
       "      <th>2</th>\n",
       "      <td>3</td>\n",
       "      <td>Sun</td>\n",
       "      <td>Jan</td>\n",
       "      <td>1</td>\n",
       "      <td>2023</td>\n",
       "      <td>120g</td>\n",
       "      <td>155g</td>\n",
       "      <td>86g</td>\n",
       "      <td>1862</td>\n",
       "      <td>3L</td>\n",
       "      <td>0</td>\n",
       "      <td>rest</td>\n",
       "    </tr>\n",
       "    <tr>\n",
       "      <th>3</th>\n",
       "      <td>4</td>\n",
       "      <td>Mon</td>\n",
       "      <td>Jan</td>\n",
       "      <td>2</td>\n",
       "      <td>2023</td>\n",
       "      <td>126g</td>\n",
       "      <td>116g</td>\n",
       "      <td>74g</td>\n",
       "      <td>1793</td>\n",
       "      <td>3L</td>\n",
       "      <td>662</td>\n",
       "      <td>lower</td>\n",
       "    </tr>\n",
       "    <tr>\n",
       "      <th>4</th>\n",
       "      <td>5</td>\n",
       "      <td>Tues</td>\n",
       "      <td>Jan</td>\n",
       "      <td>3</td>\n",
       "      <td>2023</td>\n",
       "      <td>156g</td>\n",
       "      <td>125g</td>\n",
       "      <td>76g</td>\n",
       "      <td>1805</td>\n",
       "      <td>3L</td>\n",
       "      <td>653</td>\n",
       "      <td>upper</td>\n",
       "    </tr>\n",
       "  </tbody>\n",
       "</table>\n",
       "</div>"
      ],
      "text/plain": [
       "   current day week day month  day  year protein carbs  fat calories intake  \\\n",
       "0            1      Fri   Dec   30  2022    108g  118g  66g            1767   \n",
       "1            2      Sat   Dec   31  2022     96g  233g  70g            1908   \n",
       "2            3      Sun   Jan    1  2023    120g  155g  86g            1862   \n",
       "3            4      Mon   Jan    2  2023    126g  116g  74g            1793   \n",
       "4            5     Tues   Jan    3  2023    156g  125g  76g            1805   \n",
       "\n",
       "  water move cal training day  \n",
       "0    3L      594        upper  \n",
       "1    3L      572        lower  \n",
       "2    3L        0         rest  \n",
       "3    3L      662        lower  \n",
       "4    3L      653       upper   "
      ]
     },
     "execution_count": 6,
     "metadata": {},
     "output_type": "execute_result"
    }
   ],
   "source": [
    "data.head()"
   ]
  },
  {
   "cell_type": "code",
   "execution_count": 7,
   "metadata": {},
   "outputs": [],
   "source": [
    "current_day_of_progress = data[\"current day\"]\n",
    "week_day = data[\"week day\"]\n",
    "month = data[\"month\"]\n",
    "year = data[\"year\"]\n",
    "day = data[\"day\"]\n",
    "protein = data[\"protein\"]\n",
    "carbs = data[\"carbs\"]\n",
    "fat = data[\"fat\"]\n",
    "calories_intake = data[\"calories intake\"]\n",
    "dwater = data[\"water\"]\n",
    "move_cal = data[\"move cal\"]\n",
    "type_of_training = data[\"training day\"]"
   ]
  },
  {
   "cell_type": "code",
   "execution_count": 13,
   "metadata": {},
   "outputs": [
    {
     "data": {
      "text/plain": [
       "Text(0.5, 0, 'current days')"
      ]
     },
     "execution_count": 13,
     "metadata": {},
     "output_type": "execute_result"
    },
    {
     "data": {
      "image/png": "[encoded data removed]",
      "text/plain": [
       "<Figure size 1400x600 with 1 Axes>"
      ]
     },
     "metadata": {},
     "output_type": "display_data"
    }
   ],
   "source": [
    "fig, ax = plt.subplots(figsize=(14,6))\n",
    "plt.title('Moving calories')\n",
    "plt.ylabel('move cal')\n",
    "plt.xlabel('current days')\n",
    "\n",
    "ax.bar(current_day_of_progress, move_cal, width=1, edgecolor=\"black\", linewidth=0.7)"
   ]
  },
  {
   "cell_type": "code",
   "execution_count": null,
   "metadata": {},
   "outputs": [],
   "source": []
  }
 ],
 "metadata": {
  "kernelspec": {
   "display_name": "Python 3 (ipykernel)",
   "language": "python",
   "name": "python3"
  },
  "language_info": {
   "codemirror_mode": {
    "name": "ipython",
    "version": 3
   },
   "file_extension": ".py",
   "mimetype": "text/x-python",
   "name": "python",
   "nbconvert_exporter": "python",
   "pygments_lexer": "ipython3",
   "version": "3.9.13"
  },
  "vscode": {
   "interpreter": {
    "hash": "aee8b7b246df8f9039afb4144a1f6fd8d2ca17a180786b69acc140d282b71a49"
   }
  }
 },
 "nbformat": 4,
 "nbformat_minor": 2
}
